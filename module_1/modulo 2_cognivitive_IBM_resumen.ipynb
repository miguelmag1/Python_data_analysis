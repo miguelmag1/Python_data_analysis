{
 "cells": [
  {
   "cell_type": "markdown",
   "id": "8b6a91e3",
   "metadata": {},
   "source": [
    "### Modulo 2 Cognitive IBM"
   ]
  },
  {
   "cell_type": "markdown",
   "id": "0e31241f",
   "metadata": {},
   "source": [
    "Cómo manejar los datos perdidos en python ?\n",
    "- Una manera de reemplazar los datos nulos es sacar el promedio de la variable y poner el promedio "
   ]
  },
  {
   "cell_type": "code",
   "execution_count": null,
   "id": "8cb00f18",
   "metadata": {},
   "outputs": [],
   "source": [
    "#agregando un valos a cada la columna symbols \n",
    "df[\"symboling\"]=df[\"symbolimg\"]+1"
   ]
  },
  {
   "cell_type": "code",
   "execution_count": 1,
   "id": "3d6ed8a4",
   "metadata": {},
   "outputs": [
    {
     "ename": "NameError",
     "evalue": "name 'dataframe' is not defined",
     "output_type": "error",
     "traceback": [
      "\u001b[1;31m---------------------------------------------------------------------------\u001b[0m",
      "\u001b[1;31mNameError\u001b[0m                                 Traceback (most recent call last)",
      "\u001b[1;32m<ipython-input-1-c9cee0b876d9>\u001b[0m in \u001b[0;36m<module>\u001b[1;34m\u001b[0m\n\u001b[0;32m      1\u001b[0m \u001b[1;31m#Como eliminar los valores NaN (perdidos)\u001b[0m\u001b[1;33m\u001b[0m\u001b[1;33m\u001b[0m\u001b[1;33m\u001b[0m\u001b[0m\n\u001b[1;32m----> 2\u001b[1;33m \u001b[0mdataframe\u001b[0m\u001b[1;33m.\u001b[0m\u001b[0mdropna\u001b[0m\u001b[1;33m(\u001b[0m\u001b[1;33m)\u001b[0m\u001b[1;33m\u001b[0m\u001b[1;33m\u001b[0m\u001b[0m\n\u001b[0m",
      "\u001b[1;31mNameError\u001b[0m: name 'dataframe' is not defined"
     ]
    }
   ],
   "source": [
    "#Como eliminar los valores NaN (perdidos)\n",
    "dataframe.dropna()\n",
    "\n",
    "#axis=0    ------> para eliminar filas que tengan valores perdidos\n",
    "#axis=1    ------> para eliminar columnas que tengan valores perdidos"
   ]
  },
  {
   "cell_type": "code",
   "execution_count": null,
   "id": "afb993f1",
   "metadata": {},
   "outputs": [],
   "source": [
    "df.dropna(subset=['price'], axis=0) #de esta forma no modifica el DF"
   ]
  },
  {
   "cell_type": "code",
   "execution_count": null,
   "id": "a721a6b4",
   "metadata": {},
   "outputs": [],
   "source": [
    "df.dropna(subset=['price'], axis=0, inplace = True) #de esta forma SI modifia \n",
    "#el DF"
   ]
  },
  {
   "cell_type": "markdown",
   "id": "eb719fc7",
   "metadata": {},
   "source": [
    "### Remplazando valores perdidos\n",
    "\n",
    "estructura --- > <code>dataframe.replace(missing_value, new_value)</code>\n",
    "<br>\n",
    "<br>\n",
    "No necesariamente en el primer parametro llamado missing value se debe poner los Nan, tambien se puede poner otro valor "
   ]
  },
  {
   "cell_type": "code",
   "execution_count": null,
   "id": "68dac450",
   "metadata": {},
   "outputs": [],
   "source": [
    "#aqui vamos a hacer un codigo para reemplazar los valores perdidos de \n",
    "#normalized-losses \n",
    "\n",
    "mean = df['normalized-losses'].mean() #aqui saco la media \n",
    "df['nomalized-losses'].replace(np.nan, mean)#reemplazo los Nan por la media\n"
   ]
  },
  {
   "cell_type": "markdown",
   "id": "0e95408e",
   "metadata": {},
   "source": [
    "### Aplicando calculos en una columna\n",
    "<br>\n",
    "Convirtiendo de mpg a L/100 km\n",
    "\n",
    "<code>df['city-mpg']=235/df['city-mpg']</code>\n",
    "<br>\n",
    "<br>\n",
    "En la siguiente linea lo que se hace es renombrar la columna calculada\n",
    "<br>\n",
    "<br>\n",
    "<code>df.rename(columns={'city_mpg':'city-L/100Km'}, inplace=True)"
   ]
  },
  {
   "cell_type": "code",
   "execution_count": 4,
   "id": "9d1b5d86",
   "metadata": {},
   "outputs": [],
   "source": [
    "#### consultar como agregar una nueva columna calculada a un dataframe \n"
   ]
  },
  {
   "cell_type": "markdown",
   "id": "ef2ac6b3",
   "metadata": {},
   "source": [
    "### Formas incorrectas de tipos de datos \n",
    "\n",
    "- cuando un entero se ve como formato object\n",
    "<br>\n",
    "hay que tener en cuenta que hay diferentes tipos de datos en pandas como:\n",
    "- object: 'A','Hello'..\n",
    "- int64: 1,3,5\n",
    "- Float64: 2.123, 6.5463, 7.456"
   ]
  },
  {
   "cell_type": "markdown",
   "id": "e53dad65",
   "metadata": {},
   "source": [
    "### Corrigiendo los datos en formato incorrecto\n",
    "1. identificar los tipos de datos: <code>dataframe.dtyper()</code>\n",
    "<br>\n",
    "\n",
    "2. Convertir datos: <code>dataframe.astype() </code> \n",
    "<br>\n",
    "    Ejemplo: <code>df['price']= df['price'].astype('int')"
   ]
  },
  {
   "cell_type": "markdown",
   "id": "d847fda4",
   "metadata": {},
   "source": [
    "### Normalización de los datos\n",
    "\n",
    "\n",
    "- Apuntes de la sección de normalización \n",
    "\n",
    "Longitud: 150 a 250\n",
    "\n",
    "mientras\n",
    "\n",
    "ancho: 50 a 100\n",
    "alto: 50 a 100\n",
    "\n",
    "es posible que deseemos normalizar estos valores.\n",
    "\n",
    "uno de los beneficios de la normalizada es que nos pueden facilitar el analisis estadistico posterior, Al hacer que los rangos sean consistentes entre las variables, la normalización permite una comparación más justa.\n",
    "\n",
    "\n",
    "entre las diferentes caracteristicas.\n",
    "\n",
    "\n",
    "tambien es importante por razones computacionales\n",
    "\n",
    "\n",
    "\n",
    "# __\n",
    "\n",
    "### Por qué es importante normalizar?\n",
    "\n",
    "edad entre: 0 a 100\n",
    "\n",
    "mientras \n",
    "\n",
    "ingresos: 200.000 a 500.000\n",
    "\n",
    "entoces estas dos caracteristicas están en rangos diferentes \n",
    "<br>\n",
    "**Cuando hacemos regresión** por ejemplo, el atributo \"ingresos\" intrínsecamente influye más en el resultado, debido a su mayor valor, pero esto no necesariamente significa que es más \"importante\" como predictor.\n",
    "\n",
    "Entonces, **la naturaleza de los datos sesga el modelo de regresión lineal** para sopesar más los ingresos que la edad.\n",
    "\n",
    "\n",
    "##### para evitar esto podemos normalizar estos dos valores en valores de 0 a 1"
   ]
  },
  {
   "cell_type": "markdown",
   "id": "2a3a9a8e",
   "metadata": {},
   "source": [
    "### que pasa al no normalizar\n",
    "en este caso:\n",
    "- 'age' y 'income' son de diferente rango.\n",
    "- dificl de comparar las variabels. \n",
    "- 'income' va a influir mas en el resultado.\n",
    "\n",
    "### si normalizo \n",
    "en este caso:\n",
    "- rango de valores similar.\n",
    "- influiencia similar intrinceca en el modelo analitico "
   ]
  },
  {
   "cell_type": "markdown",
   "id": "0e6e1588",
   "metadata": {},
   "source": [
    "### Métodos para normalizar los datos \n",
    "aquí solo veremos 3, los cuales son:\n",
    "\n",
    "1. Escalamiento de caracteristicas simple (simple featuring scaling): este metodo simplemente consiste en dividir cada valor de la variable por el valor máximo, los valores resultantes van de 0 a 1.\n",
    "\n",
    "$$X_{new} = \\frac{X_{old}}{X_{max}} $$\n",
    "<br>\n",
    "<br>\n",
    "para aplicar este método en la variable lenght aplicamos la siguiebte línea:\n",
    "\n",
    "<code>df['lenght']= df['lenght']/df['lenght'].max()</code>\n",
    "\n",
    "2. minimo-maximo (min-max): toma cada valor del feature y le resta el valor minimo y lo divide por el rango, los valores resultantes van de 0 a 1.\n",
    "$$X_{new} = \\frac{X_{old}-X_{max}}{X_{max}-X_{min}}$$\n",
    "<br>\n",
    "<br>\n",
    "para aplicar este método en la variable lenght aplicamos la siguiente línea:\n",
    "\n",
    "<code>df['lenght'] = (df['lenght']-df['lenght'].min())/(df['lenght'].max()-df['lenght'].min())</code> \n",
    "\n",
    "3. puntuación Z (Z-Score): a cada valor le resto la media (µ) y se divide por la desviacion (σ), los valores resultantes oscilan entre -3 a +3 y usualmente rondan el 0.\n",
    "\n",
    "$$X_{new} = \\frac{X_{old}-µ}{σ}$$\n",
    "\n",
    "para aplicar este método en la variable lenght aplicamos la siguiente línea:\n",
    "\n",
    "<code>df['length'] = (df['length']-df['lenght'].mean())/df['lenght'].std</code>"
   ]
  },
  {
   "cell_type": "markdown",
   "id": "df8bf7ae",
   "metadata": {},
   "source": [
    "### Binning \n",
    "binning es agrupar valores por ejemplo niño [0 a 12] años,adolecente [13 a 17], adulto... \n",
    "<br>\n",
    "<br>\n",
    "Para hacer binning en python es necesario aplicar los siguientes pasos:\n",
    "\n",
    "1. Se crean los intervalos de igual espaciamiento, en este caso usaremos 4 para espaciar por 3 categorias. Para esto usaremos la función de python 'linspace'\n",
    "\n",
    "<code>bins = np.linspace(min(df['price']),max(df['price']),4)</code>\n",
    "\n",
    "2. creamos una lista de los nombres de los niveles de agrupación\n",
    "<code>niveles= ['low', 'medium', 'hight']</code>\n",
    "\n",
    "3. Usamos la función de pandas cortar para segmentar y usar los valores de datos en los niveles, asi:\n",
    "\n",
    "<code>df['price-binned']= pd.cut(df['price'],bins,labels=niveles, include_lowest=True</code>"
   ]
  },
  {
   "cell_type": "markdown",
   "id": "678c655d",
   "metadata": {},
   "source": [
    "### Convertir variables categóricas en variables cuantitativas\n",
    "\n",
    "La mayoría de los modelos estadísticos no pueden tomar objetos o cadenas como entrada y, para el entrenamiento del modelo, es decir que cada categoria tomaria un numero en este caso gas=0, gasolina=1. A esto se le llama 'one-hot encoding'.  En pandas para convertir una variable en dummie aplicamos la siguiente funcion:\n",
    "<code>pd.get_dummies(df['fuel'])</code> esto genero cada nivel como una columna y le asigna un uno a la fila donde pertenezca el nivel los otros niveles saldrán en cero si pertenecen a ese nivel.\n"
   ]
  },
  {
   "cell_type": "code",
   "execution_count": null,
   "id": "ff29932d",
   "metadata": {},
   "outputs": [],
   "source": []
  }
 ],
 "metadata": {
  "kernelspec": {
   "display_name": "Python 3",
   "language": "python",
   "name": "python3"
  },
  "language_info": {
   "codemirror_mode": {
    "name": "ipython",
    "version": 3
   },
   "file_extension": ".py",
   "mimetype": "text/x-python",
   "name": "python",
   "nbconvert_exporter": "python",
   "pygments_lexer": "ipython3",
   "version": "3.8.10"
  }
 },
 "nbformat": 4,
 "nbformat_minor": 5
}
